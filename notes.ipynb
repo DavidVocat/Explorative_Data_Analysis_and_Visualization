{
 "cells": [
  {
   "cell_type": "code",
   "execution_count": null,
   "metadata": {},
   "outputs": [],
   "source": [
    "df = pd.DataFrame({'var': [-6,-5,-4,-3,-2,-1,0,1,2,3,4,5,6]}) # create dataframe\n",
    "df.quantile([0.05, 0.50, 0.95]) # calculate quantiles\n",
    "0.05 -5.4\n",
    "0.50 0.0\n",
    "0.95 5.4"
   ]
  },
  {
   "cell_type": "code",
   "execution_count": null,
   "metadata": {},
   "outputs": [],
   "source": [
    "df2 = pd.DataFrame({'var': [-42,-5,-5,-4,-3,-2,-1]})\n",
    "df.skew()\n",
    "-2.58832 # left skewed"
   ]
  },
  {
   "cell_type": "code",
   "execution_count": null,
   "metadata": {},
   "outputs": [],
   "source": [
    "df = pd.DataFrame({'var': [1,2,3,4,5,5,42]})\n",
    "df.skew()\n",
    "2.58832 # right skewed"
   ]
  },
  {
   "cell_type": "code",
   "execution_count": null,
   "metadata": {},
   "outputs": [],
   "source": [
    "df = pd.DataFrame({'var’: [-6,-5,-4,-3,-2,-1,0,1,2,3,4,5,6]})\n",
    "df.kurtosis() # calculate kurtosis\n",
    "-1.2"
   ]
  }
 ],
 "metadata": {
  "language_info": {
   "name": "python"
  }
 },
 "nbformat": 4,
 "nbformat_minor": 2
}
